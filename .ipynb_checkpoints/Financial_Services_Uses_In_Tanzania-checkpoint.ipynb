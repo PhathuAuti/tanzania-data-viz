{
 "cells": [
  {
   "cell_type": "markdown",
   "metadata": {},
   "source": [
    "# Zindi Mobile Money and Financial Inclusion in Tanzania challenge\n",
    "The train dataset contains demographic information and what financial services are used by approximately 10,000 individuals across Tanzania. This data was extracted from the FSDT Finscope 2017 survey and prepared specifically for this challenge. More about the Finscope survey here.\n",
    "\n",
    "Each individual is classified into four mutually exclusive categories:\n",
    "\n",
    "- No_financial_services: Individuals who do not use mobile money, do not save, do not have credit, and do not have insurance\n",
    "- Other_only: Individuals who do not use mobile money, but do use at least one of the other financial services (savings, credit, insurance)\n",
    "- Mm_only: Individuals who use mobile money only\n",
    "- Mm_plus: Individuals who use mobile money and also use at least one of the other financial services (savings, credit, insurance) Financial Access Map\n",
    "\n",
    "This dataset is the geospatial mapping of all cash outlets in Tanzania in 2012. Cash outlets in this case included commercial banks, community banks, ATMs, microfinance institutions, mobile money agents, bus stations and post offices. This data was collected by FSDT."
   ]
  },
  {
   "cell_type": "code",
   "execution_count": 1,
   "metadata": {},
   "outputs": [],
   "source": [
    "# Loading in required libraries\n",
    "import pandas as pd\n",
    "import numpy as np\n",
    "import seaborn as sns\n",
    "import matplotlib.pyplot as plt"
   ]
  },
  {
   "cell_type": "markdown",
   "metadata": {},
   "source": [
    "## Instruction 1\n",
    "1. Examine the dataset. Are there any missing observations or columns where the data do not seem valid?"
   ]
  },
  {
   "cell_type": "code",
   "execution_count": 2,
   "metadata": {},
   "outputs": [
    {
     "data": {
      "text/html": [
       "<div>\n",
       "<style scoped>\n",
       "    .dataframe tbody tr th:only-of-type {\n",
       "        vertical-align: middle;\n",
       "    }\n",
       "\n",
       "    .dataframe tbody tr th {\n",
       "        vertical-align: top;\n",
       "    }\n",
       "\n",
       "    .dataframe thead th {\n",
       "        text-align: right;\n",
       "    }\n",
       "</style>\n",
       "<table border=\"1\" class=\"dataframe\">\n",
       "  <thead>\n",
       "    <tr style=\"text-align: right;\">\n",
       "      <th></th>\n",
       "      <th>ID</th>\n",
       "      <th>Q1</th>\n",
       "      <th>Q2</th>\n",
       "      <th>Q3</th>\n",
       "      <th>Q4</th>\n",
       "      <th>Q5</th>\n",
       "      <th>Q6</th>\n",
       "      <th>Q7</th>\n",
       "      <th>Q8_1</th>\n",
       "      <th>Q8_2</th>\n",
       "      <th>...</th>\n",
       "      <th>Q17</th>\n",
       "      <th>Q18</th>\n",
       "      <th>Q19</th>\n",
       "      <th>Latitude</th>\n",
       "      <th>Longitude</th>\n",
       "      <th>mobile_money</th>\n",
       "      <th>savings</th>\n",
       "      <th>borrowing</th>\n",
       "      <th>insurance</th>\n",
       "      <th>mobile_money_classification</th>\n",
       "    </tr>\n",
       "  </thead>\n",
       "  <tbody>\n",
       "    <tr>\n",
       "      <td>0</td>\n",
       "      <td>5086</td>\n",
       "      <td>98</td>\n",
       "      <td>2</td>\n",
       "      <td>3</td>\n",
       "      <td>1</td>\n",
       "      <td>1</td>\n",
       "      <td>2</td>\n",
       "      <td>2</td>\n",
       "      <td>0</td>\n",
       "      <td>0</td>\n",
       "      <td>...</td>\n",
       "      <td>-1</td>\n",
       "      <td>4</td>\n",
       "      <td>4</td>\n",
       "      <td>-4.460442</td>\n",
       "      <td>29.811396</td>\n",
       "      <td>0</td>\n",
       "      <td>0</td>\n",
       "      <td>0</td>\n",
       "      <td>0</td>\n",
       "      <td>0</td>\n",
       "    </tr>\n",
       "    <tr>\n",
       "      <td>1</td>\n",
       "      <td>1258</td>\n",
       "      <td>40</td>\n",
       "      <td>1</td>\n",
       "      <td>1</td>\n",
       "      <td>3</td>\n",
       "      <td>5</td>\n",
       "      <td>1</td>\n",
       "      <td>1</td>\n",
       "      <td>1</td>\n",
       "      <td>0</td>\n",
       "      <td>...</td>\n",
       "      <td>4</td>\n",
       "      <td>1</td>\n",
       "      <td>4</td>\n",
       "      <td>-6.176438</td>\n",
       "      <td>39.244871</td>\n",
       "      <td>1</td>\n",
       "      <td>1</td>\n",
       "      <td>1</td>\n",
       "      <td>0</td>\n",
       "      <td>3</td>\n",
       "    </tr>\n",
       "    <tr>\n",
       "      <td>2</td>\n",
       "      <td>331</td>\n",
       "      <td>18</td>\n",
       "      <td>2</td>\n",
       "      <td>4</td>\n",
       "      <td>6</td>\n",
       "      <td>3</td>\n",
       "      <td>2</td>\n",
       "      <td>1</td>\n",
       "      <td>0</td>\n",
       "      <td>0</td>\n",
       "      <td>...</td>\n",
       "      <td>-1</td>\n",
       "      <td>1</td>\n",
       "      <td>1</td>\n",
       "      <td>-6.825702</td>\n",
       "      <td>37.652798</td>\n",
       "      <td>1</td>\n",
       "      <td>0</td>\n",
       "      <td>0</td>\n",
       "      <td>0</td>\n",
       "      <td>2</td>\n",
       "    </tr>\n",
       "    <tr>\n",
       "      <td>3</td>\n",
       "      <td>6729</td>\n",
       "      <td>50</td>\n",
       "      <td>1</td>\n",
       "      <td>1</td>\n",
       "      <td>3</td>\n",
       "      <td>1</td>\n",
       "      <td>1</td>\n",
       "      <td>1</td>\n",
       "      <td>0</td>\n",
       "      <td>0</td>\n",
       "      <td>...</td>\n",
       "      <td>-1</td>\n",
       "      <td>1</td>\n",
       "      <td>4</td>\n",
       "      <td>-3.372049</td>\n",
       "      <td>35.808307</td>\n",
       "      <td>1</td>\n",
       "      <td>0</td>\n",
       "      <td>1</td>\n",
       "      <td>0</td>\n",
       "      <td>3</td>\n",
       "    </tr>\n",
       "    <tr>\n",
       "      <td>4</td>\n",
       "      <td>8671</td>\n",
       "      <td>34</td>\n",
       "      <td>1</td>\n",
       "      <td>1</td>\n",
       "      <td>1</td>\n",
       "      <td>1</td>\n",
       "      <td>2</td>\n",
       "      <td>1</td>\n",
       "      <td>0</td>\n",
       "      <td>1</td>\n",
       "      <td>...</td>\n",
       "      <td>-1</td>\n",
       "      <td>1</td>\n",
       "      <td>4</td>\n",
       "      <td>-7.179645</td>\n",
       "      <td>31.039095</td>\n",
       "      <td>1</td>\n",
       "      <td>1</td>\n",
       "      <td>0</td>\n",
       "      <td>1</td>\n",
       "      <td>3</td>\n",
       "    </tr>\n",
       "  </tbody>\n",
       "</table>\n",
       "<p>5 rows × 37 columns</p>\n",
       "</div>"
      ],
      "text/plain": [
       "     ID  Q1  Q2  Q3  Q4  Q5  Q6  Q7  Q8_1  Q8_2  ...  Q17  Q18  Q19  Latitude  \\\n",
       "0  5086  98   2   3   1   1   2   2     0     0  ...   -1    4    4 -4.460442   \n",
       "1  1258  40   1   1   3   5   1   1     1     0  ...    4    1    4 -6.176438   \n",
       "2   331  18   2   4   6   3   2   1     0     0  ...   -1    1    1 -6.825702   \n",
       "3  6729  50   1   1   3   1   1   1     0     0  ...   -1    1    4 -3.372049   \n",
       "4  8671  34   1   1   1   1   2   1     0     1  ...   -1    1    4 -7.179645   \n",
       "\n",
       "   Longitude  mobile_money  savings  borrowing  insurance  \\\n",
       "0  29.811396             0        0          0          0   \n",
       "1  39.244871             1        1          1          0   \n",
       "2  37.652798             1        0          0          0   \n",
       "3  35.808307             1        0          1          0   \n",
       "4  31.039095             1        1          0          1   \n",
       "\n",
       "   mobile_money_classification  \n",
       "0                            0  \n",
       "1                            3  \n",
       "2                            2  \n",
       "3                            3  \n",
       "4                            3  \n",
       "\n",
       "[5 rows x 37 columns]"
      ]
     },
     "execution_count": 2,
     "metadata": {},
     "output_type": "execute_result"
    }
   ],
   "source": [
    "# CODE for instruction 1\n",
    "# Reading in the data\n",
    "mob_money = pd.read_csv(\"training.csv\")\n",
    "mob_money.head()"
   ]
  },
  {
   "cell_type": "code",
   "execution_count": 3,
   "metadata": {},
   "outputs": [
    {
     "name": "stdout",
     "output_type": "stream",
     "text": [
      "<class 'pandas.core.frame.DataFrame'>\n",
      "RangeIndex: 7094 entries, 0 to 7093\n",
      "Data columns (total 37 columns):\n",
      "ID                             7094 non-null int64\n",
      "Q1                             7094 non-null int64\n",
      "Q2                             7094 non-null int64\n",
      "Q3                             7094 non-null int64\n",
      "Q4                             7094 non-null int64\n",
      "Q5                             7094 non-null int64\n",
      "Q6                             7094 non-null int64\n",
      "Q7                             7094 non-null int64\n",
      "Q8_1                           7094 non-null int64\n",
      "Q8_2                           7094 non-null int64\n",
      "Q8_3                           7094 non-null int64\n",
      "Q8_4                           7094 non-null int64\n",
      "Q8_5                           7094 non-null int64\n",
      "Q8_6                           7094 non-null int64\n",
      "Q8_7                           7094 non-null int64\n",
      "Q8_8                           7094 non-null int64\n",
      "Q8_9                           7094 non-null int64\n",
      "Q8_10                          7094 non-null int64\n",
      "Q8_11                          7094 non-null int64\n",
      "Q9                             7094 non-null int64\n",
      "Q10                            7094 non-null int64\n",
      "Q11                            7094 non-null int64\n",
      "Q12                            7094 non-null int64\n",
      "Q13                            7094 non-null int64\n",
      "Q14                            7094 non-null int64\n",
      "Q15                            7094 non-null int64\n",
      "Q16                            7094 non-null int64\n",
      "Q17                            7094 non-null int64\n",
      "Q18                            7094 non-null int64\n",
      "Q19                            7094 non-null int64\n",
      "Latitude                       7094 non-null float64\n",
      "Longitude                      7094 non-null float64\n",
      "mobile_money                   7094 non-null int64\n",
      "savings                        7094 non-null int64\n",
      "borrowing                      7094 non-null int64\n",
      "insurance                      7094 non-null int64\n",
      "mobile_money_classification    7094 non-null int64\n",
      "dtypes: float64(2), int64(35)\n",
      "memory usage: 2.0 MB\n"
     ]
    }
   ],
   "source": [
    "mob_money.info()"
   ]
  },
  {
   "cell_type": "code",
   "execution_count": 4,
   "metadata": {},
   "outputs": [
    {
     "data": {
      "text/plain": [
       "ID                             0\n",
       "Q1                             0\n",
       "Q2                             0\n",
       "Q3                             0\n",
       "Q4                             0\n",
       "Q5                             0\n",
       "Q6                             0\n",
       "Q7                             0\n",
       "Q8_1                           0\n",
       "Q8_2                           0\n",
       "Q8_3                           0\n",
       "Q8_4                           0\n",
       "Q8_5                           0\n",
       "Q8_6                           0\n",
       "Q8_7                           0\n",
       "Q8_8                           0\n",
       "Q8_9                           0\n",
       "Q8_10                          0\n",
       "Q8_11                          0\n",
       "Q9                             0\n",
       "Q10                            0\n",
       "Q11                            0\n",
       "Q12                            0\n",
       "Q13                            0\n",
       "Q14                            0\n",
       "Q15                            0\n",
       "Q16                            0\n",
       "Q17                            0\n",
       "Q18                            0\n",
       "Q19                            0\n",
       "Latitude                       0\n",
       "Longitude                      0\n",
       "mobile_money                   0\n",
       "savings                        0\n",
       "borrowing                      0\n",
       "insurance                      0\n",
       "mobile_money_classification    0\n",
       "dtype: int64"
      ]
     },
     "execution_count": 4,
     "metadata": {},
     "output_type": "execute_result"
    }
   ],
   "source": [
    "mob_money.isnull().sum()"
   ]
  },
  {
   "cell_type": "markdown",
   "metadata": {},
   "source": [
    "## Instruction 2\n",
    "2. Get basic descriptive statistics for the dataset."
   ]
  },
  {
   "cell_type": "code",
   "execution_count": 5,
   "metadata": {},
   "outputs": [
    {
     "data": {
      "text/html": [
       "<div>\n",
       "<style scoped>\n",
       "    .dataframe tbody tr th:only-of-type {\n",
       "        vertical-align: middle;\n",
       "    }\n",
       "\n",
       "    .dataframe tbody tr th {\n",
       "        vertical-align: top;\n",
       "    }\n",
       "\n",
       "    .dataframe thead th {\n",
       "        text-align: right;\n",
       "    }\n",
       "</style>\n",
       "<table border=\"1\" class=\"dataframe\">\n",
       "  <thead>\n",
       "    <tr style=\"text-align: right;\">\n",
       "      <th></th>\n",
       "      <th>ID</th>\n",
       "      <th>Q1</th>\n",
       "      <th>Q2</th>\n",
       "      <th>Q3</th>\n",
       "      <th>Q4</th>\n",
       "      <th>Q5</th>\n",
       "      <th>Q6</th>\n",
       "      <th>Q7</th>\n",
       "      <th>Q8_1</th>\n",
       "      <th>Q8_2</th>\n",
       "      <th>...</th>\n",
       "      <th>Q17</th>\n",
       "      <th>Q18</th>\n",
       "      <th>Q19</th>\n",
       "      <th>Latitude</th>\n",
       "      <th>Longitude</th>\n",
       "      <th>mobile_money</th>\n",
       "      <th>savings</th>\n",
       "      <th>borrowing</th>\n",
       "      <th>insurance</th>\n",
       "      <th>mobile_money_classification</th>\n",
       "    </tr>\n",
       "  </thead>\n",
       "  <tbody>\n",
       "    <tr>\n",
       "      <td>count</td>\n",
       "      <td>7094.000000</td>\n",
       "      <td>7094.000000</td>\n",
       "      <td>7094.000000</td>\n",
       "      <td>7094.000000</td>\n",
       "      <td>7094.000000</td>\n",
       "      <td>7094.000000</td>\n",
       "      <td>7094.000000</td>\n",
       "      <td>7094.000000</td>\n",
       "      <td>7094.000000</td>\n",
       "      <td>7094.000000</td>\n",
       "      <td>...</td>\n",
       "      <td>7094.000000</td>\n",
       "      <td>7094.000000</td>\n",
       "      <td>7094.000000</td>\n",
       "      <td>7094.000000</td>\n",
       "      <td>7094.000000</td>\n",
       "      <td>7094.000000</td>\n",
       "      <td>7094.000000</td>\n",
       "      <td>7094.000000</td>\n",
       "      <td>7094.000000</td>\n",
       "      <td>7094.000000</td>\n",
       "    </tr>\n",
       "    <tr>\n",
       "      <td>mean</td>\n",
       "      <td>4742.627291</td>\n",
       "      <td>38.239498</td>\n",
       "      <td>1.559910</td>\n",
       "      <td>1.787426</td>\n",
       "      <td>3.060051</td>\n",
       "      <td>2.548915</td>\n",
       "      <td>1.840569</td>\n",
       "      <td>1.397942</td>\n",
       "      <td>0.062165</td>\n",
       "      <td>0.630110</td>\n",
       "      <td>...</td>\n",
       "      <td>-0.431914</td>\n",
       "      <td>1.860164</td>\n",
       "      <td>3.163378</td>\n",
       "      <td>-6.034378</td>\n",
       "      <td>35.354029</td>\n",
       "      <td>0.553989</td>\n",
       "      <td>0.461517</td>\n",
       "      <td>0.432901</td>\n",
       "      <td>0.151255</td>\n",
       "      <td>1.799267</td>\n",
       "    </tr>\n",
       "    <tr>\n",
       "      <td>std</td>\n",
       "      <td>2731.120086</td>\n",
       "      <td>16.332148</td>\n",
       "      <td>0.496433</td>\n",
       "      <td>1.165160</td>\n",
       "      <td>1.557779</td>\n",
       "      <td>1.534257</td>\n",
       "      <td>0.366103</td>\n",
       "      <td>0.489508</td>\n",
       "      <td>0.241472</td>\n",
       "      <td>0.482809</td>\n",
       "      <td>...</td>\n",
       "      <td>1.489879</td>\n",
       "      <td>1.351372</td>\n",
       "      <td>1.317691</td>\n",
       "      <td>2.720888</td>\n",
       "      <td>2.899511</td>\n",
       "      <td>0.497112</td>\n",
       "      <td>0.498552</td>\n",
       "      <td>0.495512</td>\n",
       "      <td>0.358322</td>\n",
       "      <td>1.196955</td>\n",
       "    </tr>\n",
       "    <tr>\n",
       "      <td>min</td>\n",
       "      <td>1.000000</td>\n",
       "      <td>16.000000</td>\n",
       "      <td>1.000000</td>\n",
       "      <td>1.000000</td>\n",
       "      <td>1.000000</td>\n",
       "      <td>1.000000</td>\n",
       "      <td>1.000000</td>\n",
       "      <td>1.000000</td>\n",
       "      <td>0.000000</td>\n",
       "      <td>0.000000</td>\n",
       "      <td>...</td>\n",
       "      <td>-1.000000</td>\n",
       "      <td>1.000000</td>\n",
       "      <td>1.000000</td>\n",
       "      <td>-11.467463</td>\n",
       "      <td>29.639578</td>\n",
       "      <td>0.000000</td>\n",
       "      <td>0.000000</td>\n",
       "      <td>0.000000</td>\n",
       "      <td>0.000000</td>\n",
       "      <td>0.000000</td>\n",
       "    </tr>\n",
       "    <tr>\n",
       "      <td>25%</td>\n",
       "      <td>2397.250000</td>\n",
       "      <td>25.000000</td>\n",
       "      <td>1.000000</td>\n",
       "      <td>1.000000</td>\n",
       "      <td>2.000000</td>\n",
       "      <td>1.000000</td>\n",
       "      <td>2.000000</td>\n",
       "      <td>1.000000</td>\n",
       "      <td>0.000000</td>\n",
       "      <td>0.000000</td>\n",
       "      <td>...</td>\n",
       "      <td>-1.000000</td>\n",
       "      <td>1.000000</td>\n",
       "      <td>2.000000</td>\n",
       "      <td>-8.275387</td>\n",
       "      <td>32.935429</td>\n",
       "      <td>0.000000</td>\n",
       "      <td>0.000000</td>\n",
       "      <td>0.000000</td>\n",
       "      <td>0.000000</td>\n",
       "      <td>1.000000</td>\n",
       "    </tr>\n",
       "    <tr>\n",
       "      <td>50%</td>\n",
       "      <td>4744.500000</td>\n",
       "      <td>35.000000</td>\n",
       "      <td>2.000000</td>\n",
       "      <td>1.000000</td>\n",
       "      <td>3.000000</td>\n",
       "      <td>3.000000</td>\n",
       "      <td>2.000000</td>\n",
       "      <td>1.000000</td>\n",
       "      <td>0.000000</td>\n",
       "      <td>1.000000</td>\n",
       "      <td>...</td>\n",
       "      <td>-1.000000</td>\n",
       "      <td>1.000000</td>\n",
       "      <td>4.000000</td>\n",
       "      <td>-6.087854</td>\n",
       "      <td>35.073326</td>\n",
       "      <td>1.000000</td>\n",
       "      <td>0.000000</td>\n",
       "      <td>0.000000</td>\n",
       "      <td>0.000000</td>\n",
       "      <td>2.000000</td>\n",
       "    </tr>\n",
       "    <tr>\n",
       "      <td>75%</td>\n",
       "      <td>7105.000000</td>\n",
       "      <td>48.000000</td>\n",
       "      <td>2.000000</td>\n",
       "      <td>3.000000</td>\n",
       "      <td>3.000000</td>\n",
       "      <td>4.000000</td>\n",
       "      <td>2.000000</td>\n",
       "      <td>2.000000</td>\n",
       "      <td>0.000000</td>\n",
       "      <td>1.000000</td>\n",
       "      <td>...</td>\n",
       "      <td>-1.000000</td>\n",
       "      <td>4.000000</td>\n",
       "      <td>4.000000</td>\n",
       "      <td>-3.517053</td>\n",
       "      <td>38.351815</td>\n",
       "      <td>1.000000</td>\n",
       "      <td>1.000000</td>\n",
       "      <td>1.000000</td>\n",
       "      <td>0.000000</td>\n",
       "      <td>3.000000</td>\n",
       "    </tr>\n",
       "    <tr>\n",
       "      <td>max</td>\n",
       "      <td>9459.000000</td>\n",
       "      <td>100.000000</td>\n",
       "      <td>2.000000</td>\n",
       "      <td>4.000000</td>\n",
       "      <td>8.000000</td>\n",
       "      <td>6.000000</td>\n",
       "      <td>2.000000</td>\n",
       "      <td>2.000000</td>\n",
       "      <td>1.000000</td>\n",
       "      <td>1.000000</td>\n",
       "      <td>...</td>\n",
       "      <td>5.000000</td>\n",
       "      <td>5.000000</td>\n",
       "      <td>5.000000</td>\n",
       "      <td>-1.084000</td>\n",
       "      <td>40.258744</td>\n",
       "      <td>1.000000</td>\n",
       "      <td>1.000000</td>\n",
       "      <td>1.000000</td>\n",
       "      <td>1.000000</td>\n",
       "      <td>3.000000</td>\n",
       "    </tr>\n",
       "  </tbody>\n",
       "</table>\n",
       "<p>8 rows × 37 columns</p>\n",
       "</div>"
      ],
      "text/plain": [
       "                ID           Q1           Q2           Q3           Q4  \\\n",
       "count  7094.000000  7094.000000  7094.000000  7094.000000  7094.000000   \n",
       "mean   4742.627291    38.239498     1.559910     1.787426     3.060051   \n",
       "std    2731.120086    16.332148     0.496433     1.165160     1.557779   \n",
       "min       1.000000    16.000000     1.000000     1.000000     1.000000   \n",
       "25%    2397.250000    25.000000     1.000000     1.000000     2.000000   \n",
       "50%    4744.500000    35.000000     2.000000     1.000000     3.000000   \n",
       "75%    7105.000000    48.000000     2.000000     3.000000     3.000000   \n",
       "max    9459.000000   100.000000     2.000000     4.000000     8.000000   \n",
       "\n",
       "                Q5           Q6           Q7         Q8_1         Q8_2  ...  \\\n",
       "count  7094.000000  7094.000000  7094.000000  7094.000000  7094.000000  ...   \n",
       "mean      2.548915     1.840569     1.397942     0.062165     0.630110  ...   \n",
       "std       1.534257     0.366103     0.489508     0.241472     0.482809  ...   \n",
       "min       1.000000     1.000000     1.000000     0.000000     0.000000  ...   \n",
       "25%       1.000000     2.000000     1.000000     0.000000     0.000000  ...   \n",
       "50%       3.000000     2.000000     1.000000     0.000000     1.000000  ...   \n",
       "75%       4.000000     2.000000     2.000000     0.000000     1.000000  ...   \n",
       "max       6.000000     2.000000     2.000000     1.000000     1.000000  ...   \n",
       "\n",
       "               Q17          Q18          Q19     Latitude    Longitude  \\\n",
       "count  7094.000000  7094.000000  7094.000000  7094.000000  7094.000000   \n",
       "mean     -0.431914     1.860164     3.163378    -6.034378    35.354029   \n",
       "std       1.489879     1.351372     1.317691     2.720888     2.899511   \n",
       "min      -1.000000     1.000000     1.000000   -11.467463    29.639578   \n",
       "25%      -1.000000     1.000000     2.000000    -8.275387    32.935429   \n",
       "50%      -1.000000     1.000000     4.000000    -6.087854    35.073326   \n",
       "75%      -1.000000     4.000000     4.000000    -3.517053    38.351815   \n",
       "max       5.000000     5.000000     5.000000    -1.084000    40.258744   \n",
       "\n",
       "       mobile_money      savings    borrowing    insurance  \\\n",
       "count   7094.000000  7094.000000  7094.000000  7094.000000   \n",
       "mean       0.553989     0.461517     0.432901     0.151255   \n",
       "std        0.497112     0.498552     0.495512     0.358322   \n",
       "min        0.000000     0.000000     0.000000     0.000000   \n",
       "25%        0.000000     0.000000     0.000000     0.000000   \n",
       "50%        1.000000     0.000000     0.000000     0.000000   \n",
       "75%        1.000000     1.000000     1.000000     0.000000   \n",
       "max        1.000000     1.000000     1.000000     1.000000   \n",
       "\n",
       "       mobile_money_classification  \n",
       "count                  7094.000000  \n",
       "mean                      1.799267  \n",
       "std                       1.196955  \n",
       "min                       0.000000  \n",
       "25%                       1.000000  \n",
       "50%                       2.000000  \n",
       "75%                       3.000000  \n",
       "max                       3.000000  \n",
       "\n",
       "[8 rows x 37 columns]"
      ]
     },
     "execution_count": 5,
     "metadata": {},
     "output_type": "execute_result"
    }
   ],
   "source": [
    "# CODE for instruction 2\n",
    "mob_money.describe()"
   ]
  },
  {
   "cell_type": "code",
   "execution_count": 6,
   "metadata": {},
   "outputs": [
    {
     "name": "stdout",
     "output_type": "stream",
     "text": [
      "[2 1]\n"
     ]
    }
   ],
   "source": [
    "print(mob_money['Q2'].unique())\n",
    "# list comprehension\n",
    "mob_money['Q2']= ['Female' if each==2 else 'Male' for each in mob_money['Q2']]\n",
    "# mob_money['mobile_money_classification']= ['None' if each==0 else 'AtLeastOther' if each==1 else 'AtLeastOther' if each==2 else 'AtLeastOther' for each in mob_money['Q2']]"
   ]
  },
  {
   "cell_type": "code",
   "execution_count": 7,
   "metadata": {},
   "outputs": [
    {
     "name": "stdout",
     "output_type": "stream",
     "text": [
      "[2 1]\n"
     ]
    }
   ],
   "source": [
    "print(mob_money['Q6'].unique())\n",
    "mob_money['Q6']= ['No' if each==2 else 'Yes' for each in mob_money['Q6']]"
   ]
  },
  {
   "cell_type": "markdown",
   "metadata": {},
   "source": [
    "## Instruction 3\n",
    "3. Create appropriate graphs to visually represent the relationship between financial services accessed (non-mobile, mobile, both) and age, gender, marital status, land ownership and type of income."
   ]
  },
  {
   "cell_type": "code",
   "execution_count": 8,
   "metadata": {},
   "outputs": [
    {
     "data": {
      "text/plain": [
       "<matplotlib.legend.Legend at 0x7f2ec1aac050>"
      ]
     },
     "execution_count": 8,
     "metadata": {},
     "output_type": "execute_result"
    },
    {
     "data": {
      "image/png": "[encoded data removed]",
      "text/plain": [
       "<Figure size 432x288 with 1 Axes>"
      ]
     },
     "metadata": {
      "needs_background": "light"
     },
     "output_type": "display_data"
    }
   ],
   "source": [
    "# CODE for instruction 3\n",
    "bar = sns.barplot(x = 'mobile_money_classification', y = 'Q1', data = mob_money, color = 'coral')\n",
    "bar.set(xlabel = 'Mobile Money Classification', ylabel = 'Age', title = 'Financial Services Accessed By Age')\n",
    "plt.legend(title = 'Mobile Money Class:', labels = ['1 = None', '2 = Other_Only','3 = MM_Only', '4 = MM_Plus'], loc=\"best\", bbox_to_anchor=(1.05, 1), borderaxespad=0.)\n",
    "# plt.legend(bbox_to_anchor=(1.05, 1), loc=2, borderaxespad=0.)"
   ]
  },
  {
   "cell_type": "code",
   "execution_count": 9,
   "metadata": {},
   "outputs": [
    {
     "data": {
      "image/png": "[encoded data removed]",
      "text/plain": [
       "<Figure size 432x288 with 1 Axes>"
      ]
     },
     "metadata": {},
     "output_type": "display_data"
    },
    {
     "data": {
      "text/plain": [
       "array(['Female', 'Male'], dtype=object)"
      ]
     },
     "execution_count": 9,
     "metadata": {},
     "output_type": "execute_result"
    }
   ],
   "source": [
    "newdf  = mob_money[mob_money['mobile_money_classification'] == 3]\n",
    "piechart = newdf.groupby(newdf['Q2'])['mobile_money_classification'].sum()\n",
    "plt.axis('equal')\n",
    "plt.pie(piechart, autopct='%1.1f%%')\n",
    "plt.title('Financial Services Accessed Based on Gender')\n",
    "plt.legend(title = 'Gender:', labels = ['Female', 'Male'], loc=\"best\")\n",
    "plt.show()\n",
    "mob_money['Q2'].unique()"
   ]
  },
  {
   "cell_type": "code",
   "execution_count": 10,
   "metadata": {},
   "outputs": [
    {
     "data": {
      "image/png": "[encoded data removed]",
      "text/plain": [
       "<Figure size 432x288 with 1 Axes>"
      ]
     },
     "metadata": {
      "needs_background": "light"
     },
     "output_type": "display_data"
    }
   ],
   "source": [
    "ax = sns.barplot(x = mob_money['mobile_money_classification'], y = np.arange(7094), hue = mob_money['Q2'])\n",
    "ax.set(xlabel = 'Mobile Money Classification', ylabel = 'Number Of People', title = 'Financial Services Accessed Based on Gender')\n",
    "\n",
    "leg = plt.legend(loc=(1.03,0), title=\"Gender:\")\n",
    "ax.add_artist(leg)\n",
    "\n",
    "\n",
    "plt.legend(title = 'Mobile Money Class x-axis:', labels = ['1 = None', '2 = Other_Only','3 = MM_Only', '4 = MM_Plus'], loc=\"best\", bbox_to_anchor=(1.05, 1), borderaxespad=0.)\n",
    "plt.show()"
   ]
  },
  {
   "cell_type": "code",
   "execution_count": 11,
   "metadata": {},
   "outputs": [
    {
     "data": {
      "image/png": "[encoded data removed]",
      "text/plain": [
       "<Figure size 432x288 with 1 Axes>"
      ]
     },
     "metadata": {},
     "output_type": "display_data"
    }
   ],
   "source": [
    "piechart = mob_money.groupby(mob_money['Q3'])['mobile_money_classification'].sum()\n",
    "plt.axis('equal')\n",
    "plt.pie(piechart, autopct='%1.1f%%')\n",
    "plt.title('Financial Services Accessed Based on Marital Status')\n",
    "plt.legend(title = 'Marital Status:', labels = ['Married','Divorced','Widowed','Single'], loc=\"best\")\n",
    "plt.show()\n",
    "# mob_money['Q3']unique()"
   ]
  },
  {
   "cell_type": "code",
   "execution_count": 12,
   "metadata": {},
   "outputs": [
    {
     "data": {
      "image/png": "[encoded data removed]",
      "text/plain": [
       "<Figure size 432x288 with 1 Axes>"
      ]
     },
     "metadata": {
      "needs_background": "light"
     },
     "output_type": "display_data"
    }
   ],
   "source": [
    "ax = sns.barplot(x = mob_money['mobile_money_classification'], y = np.arange(7094), hue = mob_money['Q3'])\n",
    "ax.set(xlabel = 'Mobile Money Classification', ylabel = 'Number Of People', title = 'Financial Services Accessed Based on Land Ownership')\n",
    "\n",
    "leg = plt.legend(loc=(1.03,0), title = 'Marital Status:')\n",
    "ax.add_artist(leg)\n",
    "\n",
    "\n",
    "plt.legend(title = 'Mobile Money Class x-axis:', labels = ['1 = None', '2 = Other_Only','3 = MM_Only', '4 = MM_Plus'], loc=\"best\", bbox_to_anchor=(1.05, 1), borderaxespad=0.)\n",
    "plt.show()"
   ]
  },
  {
   "cell_type": "code",
   "execution_count": 13,
   "metadata": {},
   "outputs": [
    {
     "data": {
      "image/png": "[encoded data removed]",
      "text/plain": [
       "<Figure size 432x288 with 1 Axes>"
      ]
     },
     "metadata": {},
     "output_type": "display_data"
    }
   ],
   "source": [
    "piechart = mob_money.groupby(mob_money['Q6'])['mobile_money_classification'].sum()\n",
    "plt.axis('equal')\n",
    "plt.pie(piechart, autopct='%1.1f%%')\n",
    "plt.title('Financial Services Accessed Based on Land Ownership')\n",
    "plt.legend(title = 'Do you own land?', labels = ['Yes', 'No'], loc=\"best\")\n",
    "plt.show()"
   ]
  },
  {
   "cell_type": "code",
   "execution_count": 14,
   "metadata": {},
   "outputs": [
    {
     "data": {
      "image/png": "[encoded data removed]",
      "text/plain": [
       "<Figure size 432x288 with 1 Axes>"
      ]
     },
     "metadata": {
      "needs_background": "light"
     },
     "output_type": "display_data"
    }
   ],
   "source": [
    "ax = sns.barplot(x = mob_money['mobile_money_classification'], y = np.arange(7094), hue = mob_money['Q6'])\n",
    "ax.set(xlabel = 'Mobile Money Classification', ylabel = 'Number Of People', title = 'Financial Services Accessed Based on Land Ownership')\n",
    "\n",
    "leg = plt.legend(loc=(1.03,0), title = 'Do you own land?')\n",
    "ax.add_artist(leg)\n",
    "\n",
    "\n",
    "plt.legend(title = 'Mobile Money Class x-axis:', labels = ['1 = None', '2 = Other_Only','3 = MM_Only', '4 = MM_Plus'], loc=\"best\", bbox_to_anchor=(1.05, 1), borderaxespad=0.)\n",
    "plt.show()"
   ]
  },
  {
   "cell_type": "code",
   "execution_count": 24,
   "metadata": {},
   "outputs": [
    {
     "data": {
      "text/plain": [
       "0    1\n",
       "1    1\n",
       "2    1\n",
       "3    1\n",
       "4    1\n",
       "Name: total_income, dtype: int64"
      ]
     },
     "execution_count": 24,
     "metadata": {},
     "output_type": "execute_result"
    }
   ],
   "source": [
    "mob_money['total_income'] = mob_money['Q8_1'] + mob_money['Q8_2'] + mob_money['Q8_3'] + mob_money['Q8_4'] + mob_money['Q8_5'] + mob_money['Q8_6'] + mob_money['Q8_7'] + mob_money['Q8_8'] + mob_money['Q8_9'] + mob_money['Q8_10'] + mob_money['Q8_11']\n",
    "mob_money['total_income'].head()"
   ]
  },
  {
   "cell_type": "code",
   "execution_count": null,
   "metadata": {},
   "outputs": [],
   "source": [
    "mob_money.plot(x = 'mobile_money_classification', y='Q8_1', kind=\"bar\")\n",
    "plt.show()"
   ]
  },
  {
   "cell_type": "code",
   "execution_count": 15,
   "metadata": {},
   "outputs": [
    {
     "name": "stdout",
     "output_type": "stream",
     "text": [
      "['No' 'Yes']\n"
     ]
    },
    {
     "data": {
      "image/png": "[encoded data removed]",
      "text/plain": [
       "<Figure size 432x288 with 1 Axes>"
      ]
     },
     "metadata": {
      "needs_background": "light"
     },
     "output_type": "display_data"
    }
   ],
   "source": [
    "print(mob_money['Q6'].unique())\n",
    "# list comprehension\n",
    "mob_money['Q6']= ['No' if each==2 else 'Yes' for each in mob_money['Q6']]\n",
    "ax = sns.barplot(x='mobile_money_classification', y='Q6', hue='Q6', data=mob_money)\n",
    "#piechart = newdf.groupby(newdf['Q6'])['mobile_money_classification'].sum()\n",
    "#plt.axis('equal') \n",
    "#plt.pie(piechart, autopct='%1.1f%%')\n",
    "#plt.title('Financial Services Accessed Based on Land Ownership')\n",
    "#plt.legend(title = 'Do you own land?', labels = ['Yes', 'No'], loc=\"best\")\n",
    "#plt.show()"
   ]
  },
  {
   "cell_type": "code",
   "execution_count": 16,
   "metadata": {},
   "outputs": [
    {
     "data": {
      "text/plain": [
       "<matplotlib.legend.Legend at 0x7f2ec0789c10>"
      ]
     },
     "execution_count": 16,
     "metadata": {},
     "output_type": "execute_result"
    },
    {
     "data": {
      "image/png": "[encoded data removed]",
      "text/plain": [
       "<Figure size 432x288 with 1 Axes>"
      ]
     },
     "metadata": {
      "needs_background": "light"
     },
     "output_type": "display_data"
    }
   ],
   "source": [
    "bar = sns.barplot(x = 'mobile_money_classification', y = 'Q8_1', data = mob_money, color = 'coral')\n",
    "bar.set(xlabel = 'Mobile Money Classification', ylabel = 'Age', title = 'Financial Services Accessed By Age')\n",
    "plt.legend(title = 'Mobile Money Class:', labels = ['1 = None', '2 = Other_Only','3 = MM_Only', '4 = MM_Plus'], loc=\"best\", bbox_to_anchor=(1.05, 1), borderaxespad=0.)  "
   ]
  },
  {
   "cell_type": "code",
   "execution_count": 17,
   "metadata": {},
   "outputs": [
    {
     "data": {
      "image/png": "[encoded data removed]",
      "text/plain": [
       "<Figure size 432x288 with 1 Axes>"
      ]
     },
     "metadata": {
      "needs_background": "light"
     },
     "output_type": "display_data"
    }
   ],
   "source": [
    "q1 = sns.barplot(x = 'mobile_money_classification', y = 'Q8_1', data = mob_money, color = 'lightcoral')\n",
    "q2 = sns.barplot(x = 'mobile_money_classification', y = 'Q8_2', data = mob_money, color = 'lightcoral')\n",
    "q3 = sns.barplot(x = 'mobile_money_classification', y = 'Q8_3', data = mob_money, color = 'lightcoral')\n",
    "q4 = sns.barplot(x = 'mobile_money_classification', y = 'Q8_4', data = mob_money, color = 'lightcoral')\n",
    "q5 = sns.barplot(x = 'mobile_money_classification', y = 'Q8_5', data= mob_money, color = 'lightcoral')\n",
    "q6 = sns.barplot(x = 'mobile_money_classification', y = 'Q8_6', data = mob_money, color = 'lightcoral')\n",
    "q7 = sns.barplot(x = 'mobile_money_classification', y = 'Q8_7', data = mob_money, color = 'lightcoral')\n",
    "q8 = sns.barplot(x = 'mobile_money_classification', y = 'Q8_8', data = mob_money, color = 'lightcoral')\n",
    "q9 = sns.barplot(x = 'mobile_money_classification', y = 'Q8_9', data = mob_money, color = 'lightcoral')\n",
    "q10 = sns.barplot(x = 'mobile_money_classification', y = 'Q8_10', data = mob_money, color = 'lightcoral')\n",
    "q11 = sns.barplot(x = 'mobile_money_classification', y = 'Q8_11', data = mob_money, color = 'lightcoral')"
   ]
  },
  {
   "cell_type": "markdown",
   "metadata": {},
   "source": [
    "## Instruction 4\n",
    "4. Create appropriate graphs to visually represent the relationship between how often mobile services are used and age, gender, marital status, land ownership and type of income."
   ]
  },
  {
   "cell_type": "code",
   "execution_count": 18,
   "metadata": {},
   "outputs": [],
   "source": [
    "# CODE for instruction 4\n"
   ]
  },
  {
   "cell_type": "markdown",
   "metadata": {},
   "source": [
    "## Instruction 5\n",
    "5. Create a map to visually explore geographic distribution of mobile services coverage with respect to type of income."
   ]
  },
  {
   "cell_type": "code",
   "execution_count": 19,
   "metadata": {},
   "outputs": [],
   "source": [
    "# CODE for instruction 5\n"
   ]
  },
  {
   "cell_type": "markdown",
   "metadata": {},
   "source": [
    "## Instruction 6\n",
    "6. What can you conclude about use of financial services in Tanzania? Which demographic and geographic factors are associated with mobile money use?"
   ]
  },
  {
   "cell_type": "code",
   "execution_count": 20,
   "metadata": {},
   "outputs": [],
   "source": [
    "# CODE for instruction 6\n"
   ]
  },
  {
   "cell_type": "code",
   "execution_count": null,
   "metadata": {},
   "outputs": [],
   "source": []
  },
  {
   "cell_type": "code",
   "execution_count": null,
   "metadata": {},
   "outputs": [],
   "source": [
    " "
   ]
  }
 ],
 "metadata": {
  "kernelspec": {
   "display_name": "Python 3",
   "language": "python",
   "name": "python3"
  },
  "language_info": {
   "codemirror_mode": {
    "name": "ipython",
    "version": 3
   },
   "file_extension": ".py",
   "mimetype": "text/x-python",
   "name": "python",
   "nbconvert_exporter": "python",
   "pygments_lexer": "ipython3",
   "version": "3.7.4"
  }
 },
 "nbformat": 4,
 "nbformat_minor": 2
}
