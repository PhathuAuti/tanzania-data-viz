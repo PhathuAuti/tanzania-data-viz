{
 "cells": [
  {
   "cell_type": "markdown",
   "metadata": {},
   "source": [
    "# Zindi Mobile Money and Financial Inclusion in Tanzania challenge\n",
    "The train dataset contains demographic information and what financial services are used by approximately 10,000 individuals across Tanzania. This data was extracted from the FSDT Finscope 2017 survey and prepared specifically for this challenge. More about the Finscope survey here.\n",
    "\n",
    "Each individual is classified into four mutually exclusive categories:\n",
    "\n",
    "- No_financial_services: Individuals who do not use mobile money, do not save, do not have credit, and do not have insurance\n",
    "- Other_only: Individuals who do not use mobile money, but do use at least one of the other financial services (savings, credit, insurance)\n",
    "- Mm_only: Individuals who use mobile money only\n",
    "- Mm_plus: Individuals who use mobile money and also use at least one of the other financial services (savings, credit, insurance) Financial Access Map\n",
    "\n",
    "This dataset is the geospatial mapping of all cash outlets in Tanzania in 2012. Cash outlets in this case included commercial banks, community banks, ATMs, microfinance institutions, mobile money agents, bus stations and post offices. This data was collected by FSDT."
   ]
  },
  {
   "cell_type": "code",
   "execution_count": 1,
   "metadata": {},
   "outputs": [
    {
     "name": "stdout",
     "output_type": "stream",
     "text": [
      "/bin/sh: 1: {sys.executable}: not found\r\n"
     ]
    }
   ],
   "source": [
    "# Loading in required libraries\n",
    "import pandas as pd\n",
    "import numpy as np\n",
    "import seaborn as sns\n",
    "import matplotlib.pyplot as plt\n",
    "!{sys.executable} -m pip install folium --user\n",
    "import folium\n",
    "from folium.plugins import MarkerCluster"
   ]
  },
  {
   "cell_type": "markdown",
   "metadata": {},
   "source": [
    "## Instruction 1\n",
    "1. Examine the dataset. Are there any missing observations or columns where the data do not seem valid?"
   ]
  },
  {
   "cell_type": "code",
   "execution_count": 2,
   "metadata": {},
   "outputs": [
    {
     "data": {
      "text/html": [
       "<div>\n",
       "<style scoped>\n",
       "    .dataframe tbody tr th:only-of-type {\n",
       "        vertical-align: middle;\n",
       "    }\n",
       "\n",
       "    .dataframe tbody tr th {\n",
       "        vertical-align: top;\n",
       "    }\n",
       "\n",
       "    .dataframe thead th {\n",
       "        text-align: right;\n",
       "    }\n",
       "</style>\n",
       "<table border=\"1\" class=\"dataframe\">\n",
       "  <thead>\n",
       "    <tr style=\"text-align: right;\">\n",
       "      <th></th>\n",
       "      <th>ID</th>\n",
       "      <th>Q1</th>\n",
       "      <th>Q2</th>\n",
       "      <th>Q3</th>\n",
       "      <th>Q4</th>\n",
       "      <th>Q5</th>\n",
       "      <th>Q6</th>\n",
       "      <th>Q7</th>\n",
       "      <th>Q8_1</th>\n",
       "      <th>Q8_2</th>\n",
       "      <th>...</th>\n",
       "      <th>Q17</th>\n",
       "      <th>Q18</th>\n",
       "      <th>Q19</th>\n",
       "      <th>Latitude</th>\n",
       "      <th>Longitude</th>\n",
       "      <th>mobile_money</th>\n",
       "      <th>savings</th>\n",
       "      <th>borrowing</th>\n",
       "      <th>insurance</th>\n",
       "      <th>mobile_money_classification</th>\n",
       "    </tr>\n",
       "  </thead>\n",
       "  <tbody>\n",
       "    <tr>\n",
       "      <td>0</td>\n",
       "      <td>5086</td>\n",
       "      <td>98</td>\n",
       "      <td>2</td>\n",
       "      <td>3</td>\n",
       "      <td>1</td>\n",
       "      <td>1</td>\n",
       "      <td>2</td>\n",
       "      <td>2</td>\n",
       "      <td>0</td>\n",
       "      <td>0</td>\n",
       "      <td>...</td>\n",
       "      <td>-1</td>\n",
       "      <td>4</td>\n",
       "      <td>4</td>\n",
       "      <td>-4.460442</td>\n",
       "      <td>29.811396</td>\n",
       "      <td>0</td>\n",
       "      <td>0</td>\n",
       "      <td>0</td>\n",
       "      <td>0</td>\n",
       "      <td>0</td>\n",
       "    </tr>\n",
       "    <tr>\n",
       "      <td>1</td>\n",
       "      <td>1258</td>\n",
       "      <td>40</td>\n",
       "      <td>1</td>\n",
       "      <td>1</td>\n",
       "      <td>3</td>\n",
       "      <td>5</td>\n",
       "      <td>1</td>\n",
       "      <td>1</td>\n",
       "      <td>1</td>\n",
       "      <td>0</td>\n",
       "      <td>...</td>\n",
       "      <td>4</td>\n",
       "      <td>1</td>\n",
       "      <td>4</td>\n",
       "      <td>-6.176438</td>\n",
       "      <td>39.244871</td>\n",
       "      <td>1</td>\n",
       "      <td>1</td>\n",
       "      <td>1</td>\n",
       "      <td>0</td>\n",
       "      <td>3</td>\n",
       "    </tr>\n",
       "    <tr>\n",
       "      <td>2</td>\n",
       "      <td>331</td>\n",
       "      <td>18</td>\n",
       "      <td>2</td>\n",
       "      <td>4</td>\n",
       "      <td>6</td>\n",
       "      <td>3</td>\n",
       "      <td>2</td>\n",
       "      <td>1</td>\n",
       "      <td>0</td>\n",
       "      <td>0</td>\n",
       "      <td>...</td>\n",
       "      <td>-1</td>\n",
       "      <td>1</td>\n",
       "      <td>1</td>\n",
       "      <td>-6.825702</td>\n",
       "      <td>37.652798</td>\n",
       "      <td>1</td>\n",
       "      <td>0</td>\n",
       "      <td>0</td>\n",
       "      <td>0</td>\n",
       "      <td>2</td>\n",
       "    </tr>\n",
       "    <tr>\n",
       "      <td>3</td>\n",
       "      <td>6729</td>\n",
       "      <td>50</td>\n",
       "      <td>1</td>\n",
       "      <td>1</td>\n",
       "      <td>3</td>\n",
       "      <td>1</td>\n",
       "      <td>1</td>\n",
       "      <td>1</td>\n",
       "      <td>0</td>\n",
       "      <td>0</td>\n",
       "      <td>...</td>\n",
       "      <td>-1</td>\n",
       "      <td>1</td>\n",
       "      <td>4</td>\n",
       "      <td>-3.372049</td>\n",
       "      <td>35.808307</td>\n",
       "      <td>1</td>\n",
       "      <td>0</td>\n",
       "      <td>1</td>\n",
       "      <td>0</td>\n",
       "      <td>3</td>\n",
       "    </tr>\n",
       "    <tr>\n",
       "      <td>4</td>\n",
       "      <td>8671</td>\n",
       "      <td>34</td>\n",
       "      <td>1</td>\n",
       "      <td>1</td>\n",
       "      <td>1</td>\n",
       "      <td>1</td>\n",
       "      <td>2</td>\n",
       "      <td>1</td>\n",
       "      <td>0</td>\n",
       "      <td>1</td>\n",
       "      <td>...</td>\n",
       "      <td>-1</td>\n",
       "      <td>1</td>\n",
       "      <td>4</td>\n",
       "      <td>-7.179645</td>\n",
       "      <td>31.039095</td>\n",
       "      <td>1</td>\n",
       "      <td>1</td>\n",
       "      <td>0</td>\n",
       "      <td>1</td>\n",
       "      <td>3</td>\n",
       "    </tr>\n",
       "  </tbody>\n",
       "</table>\n",
       "<p>5 rows × 37 columns</p>\n",
       "</div>"
      ],
      "text/plain": [
       "     ID  Q1  Q2  Q3  Q4  Q5  Q6  Q7  Q8_1  Q8_2  ...  Q17  Q18  Q19  Latitude  \\\n",
       "0  5086  98   2   3   1   1   2   2     0     0  ...   -1    4    4 -4.460442   \n",
       "1  1258  40   1   1   3   5   1   1     1     0  ...    4    1    4 -6.176438   \n",
       "2   331  18   2   4   6   3   2   1     0     0  ...   -1    1    1 -6.825702   \n",
       "3  6729  50   1   1   3   1   1   1     0     0  ...   -1    1    4 -3.372049   \n",
       "4  8671  34   1   1   1   1   2   1     0     1  ...   -1    1    4 -7.179645   \n",
       "\n",
       "   Longitude  mobile_money  savings  borrowing  insurance  \\\n",
       "0  29.811396             0        0          0          0   \n",
       "1  39.244871             1        1          1          0   \n",
       "2  37.652798             1        0          0          0   \n",
       "3  35.808307             1        0          1          0   \n",
       "4  31.039095             1        1          0          1   \n",
       "\n",
       "   mobile_money_classification  \n",
       "0                            0  \n",
       "1                            3  \n",
       "2                            2  \n",
       "3                            3  \n",
       "4                            3  \n",
       "\n",
       "[5 rows x 37 columns]"
      ]
     },
     "execution_count": 2,
     "metadata": {},
     "output_type": "execute_result"
    }
   ],
   "source": [
    "# Reading in the data\n",
    "mob_money = pd.read_csv(\"training.csv\")\n",
    "\n",
    "# changing index cols with rename() \n",
    "#mob_money.rename(index = {\"0\": \"None\", \"1\":\"Other_Only\", \"2\":\"MM_Only\", \"3\":\"MM_Plus\"}, inplace = True) \n",
    "# display \n",
    "mob_money.head()"
   ]
  },
  {
   "cell_type": "code",
   "execution_count": 3,
   "metadata": {},
   "outputs": [],
   "source": [
    "# changing cols with rename()mob_money \n",
    "m_money = mob_money.rename(columns = {\"Q1\": \"Age\", \n",
    "                                  \"Q2\": \"Gender\", \n",
    "                                  \"Q3\": \"Marital Status\",\n",
    "                                  \"Q4\": \"Highest Qualification\",\n",
    "                                  \"Q5\": \"Living Conditions\",\n",
    "                                  \"Q6\": \"Land Ownership\",\n",
    "                                  \"Q7\": \"Cellphone Ownership\",\n",
    "                                  \"Q8_1\": \"Salaries/Wages\",\n",
    "                                  \"Q8_2\": \"Trading\",\n",
    "                                  \"Q8_3\": \"Service Provider\",\n",
    "                                  \"Q8_4\": \"Piece Jobs\",\n",
    "                                  \"Q8_5\": \"Rental Income\",\n",
    "                                  \"Q8_6\": \"Investments\",\n",
    "                                  \"Q8_7\": \"Pension\",\n",
    "                                  \"Q8_8\": \"Social Welfare\",\n",
    "                                  \"Q8_9\": \"Rely on Someone Else\",\n",
    "                                  \"Q8_10\": \"No Money\",\n",
    "                                  \"Q8_11\": \"Other\",\n",
    "                                  \"Q9\": \"Employer\",\n",
    "                                  \"Q10\": \"Trading Products\",\n",
    "                                  \"Q11\": \"Services Provided\",\n",
    "                                  \"Q12\": \"Sent Money(12months)\",\n",
    "                                  \"Q13\": \"Last Sent Money\",\n",
    "                                  \"Q14\": \"Received Money(12months)\",\n",
    "                                  \"Q15\": \"Last Received Money\",\n",
    "                                  \"Q16\": \"Mobile Money for GnS (12months)\",\n",
    "                                  \"Q17\": \"Mobile Money for Bills (12months)\",\n",
    "                                  \"Q18\": \"Literacy in Kiswhahili\",\n",
    "                                  \"Q19\": \"Literacy in English\"}) \n",
    "  \n",
    "# changing columns using .columns() \n",
    "mob_money.columns = [\"ID\",\"Age\", \"Gender\",\"Marital Status\",\"Highest Qualification\",\"Living Conditions\",\n",
    "                    \"Land Ownership\", \"Cellphone Ownership\", \"Salaries/Wages\",\"Trading\", \"Service Provider\",\n",
    "                    \"Piece Jobs\", \"Rental Income\",\"Investments\", \"Pension\",\"Social Welfare\",\n",
    "                    \"Rely on Someone Else\", \"No Money\",\"Other\",\"Employer\",\"Trading Products\",\n",
    "                    \"Services Provided\",\"Sent Money(12months)\",\"Last Sent Money\",\"Received Money(12months)\",\n",
    "                    \"Last Received Money\",\"Mobile Money for GnS (12months)\", \"Mobile Money for Bills (12months)\",\n",
    "                    \"Literacy in Kiswhahili\",\"Literacy in English\",\"Latitude\",\"Longitude\",\"mobile_money\",\"savings\",\n",
    "                    \"borrowing\",\"insurance\",\"mobile_money_classification\"] \n",
    "  \n",
    "# dropna used to ignore na values \n",
    "#print(new_data.dropna()== data.dropna()) "
   ]
  },
  {
   "cell_type": "code",
   "execution_count": 4,
   "metadata": {},
   "outputs": [
    {
     "data": {
      "text/html": [
       "<div>\n",
       "<style scoped>\n",
       "    .dataframe tbody tr th:only-of-type {\n",
       "        vertical-align: middle;\n",
       "    }\n",
       "\n",
       "    .dataframe tbody tr th {\n",
       "        vertical-align: top;\n",
       "    }\n",
       "\n",
       "    .dataframe thead th {\n",
       "        text-align: right;\n",
       "    }\n",
       "</style>\n",
       "<table border=\"1\" class=\"dataframe\">\n",
       "  <thead>\n",
       "    <tr style=\"text-align: right;\">\n",
       "      <th></th>\n",
       "      <th>ID</th>\n",
       "      <th>Age</th>\n",
       "      <th>Gender</th>\n",
       "      <th>Marital Status</th>\n",
       "      <th>Highest Qualification</th>\n",
       "      <th>Living Conditions</th>\n",
       "      <th>Land Ownership</th>\n",
       "      <th>Cellphone Ownership</th>\n",
       "      <th>Salaries/Wages</th>\n",
       "      <th>Trading</th>\n",
       "      <th>...</th>\n",
       "      <th>Mobile Money for Bills (12months)</th>\n",
       "      <th>Literacy in Kiswhahili</th>\n",
       "      <th>Literacy in English</th>\n",
       "      <th>Latitude</th>\n",
       "      <th>Longitude</th>\n",
       "      <th>mobile_money</th>\n",
       "      <th>savings</th>\n",
       "      <th>borrowing</th>\n",
       "      <th>insurance</th>\n",
       "      <th>mobile_money_classification</th>\n",
       "    </tr>\n",
       "  </thead>\n",
       "  <tbody>\n",
       "    <tr>\n",
       "      <td>0</td>\n",
       "      <td>5086</td>\n",
       "      <td>98</td>\n",
       "      <td>2</td>\n",
       "      <td>3</td>\n",
       "      <td>1</td>\n",
       "      <td>1</td>\n",
       "      <td>2</td>\n",
       "      <td>2</td>\n",
       "      <td>0</td>\n",
       "      <td>0</td>\n",
       "      <td>...</td>\n",
       "      <td>-1</td>\n",
       "      <td>4</td>\n",
       "      <td>4</td>\n",
       "      <td>-4.460442</td>\n",
       "      <td>29.811396</td>\n",
       "      <td>0</td>\n",
       "      <td>0</td>\n",
       "      <td>0</td>\n",
       "      <td>0</td>\n",
       "      <td>0</td>\n",
       "    </tr>\n",
       "    <tr>\n",
       "      <td>1</td>\n",
       "      <td>1258</td>\n",
       "      <td>40</td>\n",
       "      <td>1</td>\n",
       "      <td>1</td>\n",
       "      <td>3</td>\n",
       "      <td>5</td>\n",
       "      <td>1</td>\n",
       "      <td>1</td>\n",
       "      <td>1</td>\n",
       "      <td>0</td>\n",
       "      <td>...</td>\n",
       "      <td>4</td>\n",
       "      <td>1</td>\n",
       "      <td>4</td>\n",
       "      <td>-6.176438</td>\n",
       "      <td>39.244871</td>\n",
       "      <td>1</td>\n",
       "      <td>1</td>\n",
       "      <td>1</td>\n",
       "      <td>0</td>\n",
       "      <td>3</td>\n",
       "    </tr>\n",
       "    <tr>\n",
       "      <td>2</td>\n",
       "      <td>331</td>\n",
       "      <td>18</td>\n",
       "      <td>2</td>\n",
       "      <td>4</td>\n",
       "      <td>6</td>\n",
       "      <td>3</td>\n",
       "      <td>2</td>\n",
       "      <td>1</td>\n",
       "      <td>0</td>\n",
       "      <td>0</td>\n",
       "      <td>...</td>\n",
       "      <td>-1</td>\n",
       "      <td>1</td>\n",
       "      <td>1</td>\n",
       "      <td>-6.825702</td>\n",
       "      <td>37.652798</td>\n",
       "      <td>1</td>\n",
       "      <td>0</td>\n",
       "      <td>0</td>\n",
       "      <td>0</td>\n",
       "      <td>2</td>\n",
       "    </tr>\n",
       "    <tr>\n",
       "      <td>3</td>\n",
       "      <td>6729</td>\n",
       "      <td>50</td>\n",
       "      <td>1</td>\n",
       "      <td>1</td>\n",
       "      <td>3</td>\n",
       "      <td>1</td>\n",
       "      <td>1</td>\n",
       "      <td>1</td>\n",
       "      <td>0</td>\n",
       "      <td>0</td>\n",
       "      <td>...</td>\n",
       "      <td>-1</td>\n",
       "      <td>1</td>\n",
       "      <td>4</td>\n",
       "      <td>-3.372049</td>\n",
       "      <td>35.808307</td>\n",
       "      <td>1</td>\n",
       "      <td>0</td>\n",
       "      <td>1</td>\n",
       "      <td>0</td>\n",
       "      <td>3</td>\n",
       "    </tr>\n",
       "    <tr>\n",
       "      <td>4</td>\n",
       "      <td>8671</td>\n",
       "      <td>34</td>\n",
       "      <td>1</td>\n",
       "      <td>1</td>\n",
       "      <td>1</td>\n",
       "      <td>1</td>\n",
       "      <td>2</td>\n",
       "      <td>1</td>\n",
       "      <td>0</td>\n",
       "      <td>1</td>\n",
       "      <td>...</td>\n",
       "      <td>-1</td>\n",
       "      <td>1</td>\n",
       "      <td>4</td>\n",
       "      <td>-7.179645</td>\n",
       "      <td>31.039095</td>\n",
       "      <td>1</td>\n",
       "      <td>1</td>\n",
       "      <td>0</td>\n",
       "      <td>1</td>\n",
       "      <td>3</td>\n",
       "    </tr>\n",
       "  </tbody>\n",
       "</table>\n",
       "<p>5 rows × 37 columns</p>\n",
       "</div>"
      ],
      "text/plain": [
       "     ID  Age  Gender  Marital Status  Highest Qualification  \\\n",
       "0  5086   98       2               3                      1   \n",
       "1  1258   40       1               1                      3   \n",
       "2   331   18       2               4                      6   \n",
       "3  6729   50       1               1                      3   \n",
       "4  8671   34       1               1                      1   \n",
       "\n",
       "   Living Conditions  Land Ownership  Cellphone Ownership  Salaries/Wages  \\\n",
       "0                  1               2                    2               0   \n",
       "1                  5               1                    1               1   \n",
       "2                  3               2                    1               0   \n",
       "3                  1               1                    1               0   \n",
       "4                  1               2                    1               0   \n",
       "\n",
       "   Trading  ...  Mobile Money for Bills (12months)  Literacy in Kiswhahili  \\\n",
       "0        0  ...                                 -1                       4   \n",
       "1        0  ...                                  4                       1   \n",
       "2        0  ...                                 -1                       1   \n",
       "3        0  ...                                 -1                       1   \n",
       "4        1  ...                                 -1                       1   \n",
       "\n",
       "   Literacy in English  Latitude  Longitude  mobile_money  savings  borrowing  \\\n",
       "0                    4 -4.460442  29.811396             0        0          0   \n",
       "1                    4 -6.176438  39.244871             1        1          1   \n",
       "2                    1 -6.825702  37.652798             1        0          0   \n",
       "3                    4 -3.372049  35.808307             1        0          1   \n",
       "4                    4 -7.179645  31.039095             1        1          0   \n",
       "\n",
       "   insurance  mobile_money_classification  \n",
       "0          0                            0  \n",
       "1          0                            3  \n",
       "2          0                            2  \n",
       "3          0                            3  \n",
       "4          1                            3  \n",
       "\n",
       "[5 rows x 37 columns]"
      ]
     },
     "execution_count": 4,
     "metadata": {},
     "output_type": "execute_result"
    }
   ],
   "source": [
    "mob_money.head()"
   ]
  },
  {
   "cell_type": "code",
   "execution_count": 5,
   "metadata": {},
   "outputs": [
    {
     "name": "stdout",
     "output_type": "stream",
     "text": [
      "[2 1]\n"
     ]
    }
   ],
   "source": [
    "# list comprehension\n",
    "print(mob_money['Gender'].unique())\n",
    "mob_money['Gender']= ['Female' if each==2 else 'Male' for each in mob_money['Gender']]"
   ]
  },
  {
   "cell_type": "code",
   "execution_count": 6,
   "metadata": {},
   "outputs": [
    {
     "name": "stdout",
     "output_type": "stream",
     "text": [
      "[2 1]\n"
     ]
    }
   ],
   "source": [
    "# list comprehension\n",
    "print(mob_money['Land Ownership'].unique())\n",
    "mob_money['Land Ownership']= ['No' if each==2 else 'Yes' for each in mob_money['Land Ownership']]"
   ]
  },
  {
   "cell_type": "code",
   "execution_count": 7,
   "metadata": {},
   "outputs": [
    {
     "name": "stdout",
     "output_type": "stream",
     "text": [
      "[2 1]\n"
     ]
    }
   ],
   "source": [
    "print(mob_money['Sent Money(12months)'].unique())\n",
    "mob_money['Sent Money(12months)']= ['No' if each==2 else 'Yes' for each in mob_money['Sent Money(12months)']]"
   ]
  },
  {
   "cell_type": "code",
   "execution_count": 8,
   "metadata": {},
   "outputs": [
    {
     "name": "stdout",
     "output_type": "stream",
     "text": [
      "[2 1]\n"
     ]
    }
   ],
   "source": [
    "print(mob_money['Received Money(12months)'].unique())\n",
    "mob_money['Received Money(12months)']= ['No' if each==2 else 'Yes' for each in mob_money['Received Money(12months)']]"
   ]
  },
  {
   "cell_type": "code",
   "execution_count": 9,
   "metadata": {},
   "outputs": [
    {
     "name": "stdout",
     "output_type": "stream",
     "text": [
      "[-1  4  2  5  3  6  1]\n"
     ]
    }
   ],
   "source": [
    "print(mob_money['Last Sent Money'].unique())\n",
    "mob_money['Last Sent Money'] = mob_money['Last Sent Money'].map({-1: \"N/A\", 4: \"90Days\", 2: \"7Days\", 5: \"90+Days\", 3: \"30Days\", 6: \"6Mnth+\", 1: \"Y/Today\"})\n",
    "#mob_money.head()"
   ]
  },
  {
   "cell_type": "code",
   "execution_count": 10,
   "metadata": {},
   "outputs": [
    {
     "name": "stdout",
     "output_type": "stream",
     "text": [
      "[-1  5  1  3  4  6  2]\n"
     ]
    }
   ],
   "source": [
    "print(mob_money['Last Received Money'].unique())\n",
    "mob_money['Last Received Money'] = mob_money['Last Received Money'].map({-1: \"N/A\", 5: \"90+Days\", 1: \"Y/Today\", 3: \"30Days\", 4: \"90Days\", 6: \"6Mnth+\", 2: \"7Days\"})\n",
    "#mob_money.head()"
   ]
  },
  {
   "cell_type": "code",
   "execution_count": 11,
   "metadata": {},
   "outputs": [
    {
     "name": "stdout",
     "output_type": "stream",
     "text": [
      "[1 4 5 3 2]\n"
     ]
    }
   ],
   "source": [
    "print(mob_money['Mobile Money for GnS (12months)'].unique())\n",
    "mob_money['Mobile Money for GnS (12months)'] = mob_money['Mobile Money for GnS (12months)'].map({-1: \"N/A\", 1: \"Never\", 4: \"Monthly\", 5: \"LessMnthly\", 3: \"Weekly\", 2: \"Daily\"})\n",
    "#mob_money.head()"
   ]
  },
  {
   "cell_type": "code",
   "execution_count": 12,
   "metadata": {},
   "outputs": [
    {
     "ename": "SyntaxError",
     "evalue": "invalid syntax (<ipython-input-12-1c7931c44d47>, line 1)",
     "output_type": "error",
     "traceback": [
      "\u001b[0;36m  File \u001b[0;32m\"<ipython-input-12-1c7931c44d47>\"\u001b[0;36m, line \u001b[0;32m1\u001b[0m\n\u001b[0;31m    'Received Money(12months)'print(mob_money['Mobile Money for Bills (12months)'].unique())\u001b[0m\n\u001b[0m                                  ^\u001b[0m\n\u001b[0;31mSyntaxError\u001b[0m\u001b[0;31m:\u001b[0m invalid syntax\n"
     ]
    }
   ],
   "source": [
    "'Received Money(12months)'print(mob_money['Mobile Money for Bills (12months)'].unique())\n",
    "mob_money['Mobile Money for Bills (12months)'] = mob_money['Mobile Money for Bills (12months)'].map({-1: \"N/A\", 4: \"Monthly\", 1: \"Never\", 2: \"Daily\", 5: \"LessMnthly\", 3: \"Weekly\"})\n",
    "#mob_money.head()"
   ]
  },
  {
   "cell_type": "code",
   "execution_count": null,
   "metadata": {},
   "outputs": [],
   "source": [
    "print(mob_money['mobile_money'].unique())\n",
    "mob_money['mobile_money']= ['No' if each==0 else 'Yes' for each in mob_money['mobile_money']]"
   ]
  },
  {
   "cell_type": "code",
   "execution_count": null,
   "metadata": {},
   "outputs": [],
   "source": [
    "mob_money.columns"
   ]
  },
  {
   "cell_type": "code",
   "execution_count": null,
   "metadata": {},
   "outputs": [],
   "source": [
    "incomes = mob_money.loc[:, 'Salaries/Wages':'Other']\n",
    "incomes['mobile_money'] = mob_money['mobile_money']\n",
    "incomes['Sent Money(12months)'] = mob_money['Sent Money(12months)']\n",
    "incomes['Received Money(12months)'] = mob_money['Received Money(12months)']\n",
    "incomes = pd.melt(incomes, id_vars = ['mobile_money', 'Sent Money(12months)', 'Received Money(12months)'], var_name='Income_Type') \n",
    "incomes = incomes[incomes['value'] == 1]\n",
    "incomes.Income_Type.value_counts()\n",
    "incomes.head()"
   ]
  },
  {
   "cell_type": "code",
   "execution_count": null,
   "metadata": {},
   "outputs": [],
   "source": [
    "# incomes = mob_money.loc[:, 'Salaries/Wages':'Other']\n",
    "# incomes['Sent Money(12months)'] = mob_money['Sent Money(12months)']\n",
    "# incomes = pd.melt(incomes, id_vars = ['Sent Money(12months)'], var_name='Income_Type') \n",
    "# incomes = incomes[incomes['value'] == 1]\n",
    "# incomes.Income_Type.value_counts()\n",
    "# #incomes.head()mel"
   ]
  },
  {
   "cell_type": "code",
   "execution_count": null,
   "metadata": {},
   "outputs": [],
   "source": [
    "# incomes = mob_money.loc[:, 'Salaries/Wages':'Other']\n",
    "# incomes['Received Money(12months)'] = mob_money['Received Money(12months)']\n",
    "# incomes = pd.melt(incomes, id_vars = ['Received Money(12months)'], var_name='Income_Type') \n",
    "# incomes = incomes[incomes['value'] == 1]\n",
    "# incomes.Income_Type.value_counts()\n",
    "# #incomes.head()"
   ]
  },
  {
   "cell_type": "code",
   "execution_count": null,
   "metadata": {},
   "outputs": [],
   "source": [
    "incomes.head()"
   ]
  },
  {
   "cell_type": "code",
   "execution_count": null,
   "metadata": {},
   "outputs": [],
   "source": [
    "print(mob_money['mobile_money_classification'].unique())\n",
    "mob_money['mobile_money_classification'] = mob_money['mobile_money_classification'].map({0: \"None\", 3: \"MM_Plus\", 2: \"MM_Only\", 1: \"Other_Only\"})\n",
    "mob_money.head()"
   ]
  },
  {
   "cell_type": "code",
   "execution_count": null,
   "metadata": {},
   "outputs": [],
   "source": [
    "print(mob_money['Marital Status'].unique())\n",
    "mob_money['Marital Status'] = mob_money['Marital Status'].map({3: \"Widowed\", 1: \"Married\", 4: \"Single\", 2: \"Divorced\"})\n",
    "mob_money.head()"
   ]
  },
  {
   "cell_type": "markdown",
   "metadata": {},
   "source": [
    "## Instruction 2\n",
    "2. Get basic descriptive statistics for the dataset."
   ]
  },
  {
   "cell_type": "code",
   "execution_count": null,
   "metadata": {},
   "outputs": [],
   "source": [
    "mob_money.describe()"
   ]
  },
  {
   "cell_type": "markdown",
   "metadata": {},
   "source": [
    "## Instruction 3\n",
    "3. Create appropriate graphs to visually represent the relationship between financial services accessed (non-mobile, mobile, both) and age, gender, marital status, land ownership and type of income."
   ]
  },
  {
   "cell_type": "markdown",
   "metadata": {},
   "source": [
    "### Financial Services Accessed vs Age "
   ]
  },
  {
   "cell_type": "code",
   "execution_count": null,
   "metadata": {},
   "outputs": [],
   "source": [
    "g = sns.catplot(x = 'mobile_money_classification', y = 'Age', kind = \"swarm\", data = mob_money)\n",
    "plt.xlabel('Financial Services Accessed')\n",
    "plt.ylabel('Age')\n",
    "plt.title(\"Financial Services Accessed With Respect to User's Age\")"
   ]
  },
  {
   "cell_type": "markdown",
   "metadata": {},
   "source": [
    "The oldest people (80years+) are mostly observed in the \"None\" part of the financial service classification. The younger people are in the \"MM_Only\" part and the other parts as well. It seems like not too many older people can access financial services easily, it's mainly people of ages younger than 60 that seem to have access to financial services. We need to explore the data further to see what influences the accessibility financial services in Tanzania."
   ]
  },
  {
   "cell_type": "markdown",
   "metadata": {},
   "source": [
    "### Financial Services Accessed vs Gender"
   ]
  },
  {
   "cell_type": "code",
   "execution_count": null,
   "metadata": {},
   "outputs": [],
   "source": [
    "g = sns.catplot(x = \"Gender\", kind = 'count', hue = \"mobile_money_classification\", data = mob_money)\n",
    "plt.title('Financial Services Accessed Based on Gender')\n",
    "plt.xlabel('Gender')\n",
    "plt.ylabel('Number of People')"
   ]
  },
  {
   "cell_type": "markdown",
   "metadata": {},
   "source": [
    "There seems to be generally more females than males who use mobile money, as well as other forms of money circulation methods. This could be due to the fact that many women have to take care of family and make sure money circulates to their children, and possibly extended family. The majority of men seem to use other forms of money circulation methods except mobile money, which begs the question of whether or not men are equipped with the knowledge and ability of technical services of money."
   ]
  },
  {
   "cell_type": "markdown",
   "metadata": {},
   "source": [
    "### Financial Services Accessed vs Marital Status "
   ]
  },
  {
   "cell_type": "code",
   "execution_count": null,
   "metadata": {},
   "outputs": [],
   "source": [
    "g = sns.catplot(x = \"Marital Status\", kind = 'count', hue = \"mobile_money_classification\", data = mob_money)\n",
    "plt.title('Financial Services Accessed Based on Marital Status')\n",
    "plt.xlabel('Marital Status')\n",
    "plt.ylabel('Number of People')"
   ]
  },
  {
   "cell_type": "markdown",
   "metadata": {},
   "source": [
    "When we look at the x-axis, we can see how the number of people who use mobile money only are divorced, followed by those who are married. Going back to the other two aspects we previously observed, i.e. Age and Gender, we noticed how most mobile money users are in their mid-to-late thirties, and we also noticed how most of them are female. Now we are seeing that most of them are either divorced or married. This can just simply bring about the conclusion that as women get older, they are faced with many responsibilities, not only of money flow in the family, but as well as taking care of certain needs in the family, which makes sense for most of them to opt into using mobile money, as a form of bringing about some sense of ease with all the amount of responsibilities that need to be taken care of."
   ]
  },
  {
   "cell_type": "markdown",
   "metadata": {},
   "source": [
    "### Financial Services Accessed vs Land Ownership"
   ]
  },
  {
   "cell_type": "code",
   "execution_count": null,
   "metadata": {},
   "outputs": [],
   "source": [
    "g = sns.catplot(x = \"Land Ownership\", kind = 'count', hue = \"mobile_money_classification\", data = mob_money)\n",
    "plt.title('Financial Services Accessed Based on Land Ownership')\n",
    "plt.xlabel('Land Ownership')\n",
    "plt.ylabel('Number of People')"
   ]
  },
  {
   "cell_type": "markdown",
   "metadata": {},
   "source": [
    "We are trying to find out whether or not people owning land affects their usage of mobile money. Most people without land ownership actually use mobile money more than those who own land. This could be due to payment of bills such as rent, water and electricity, parking, etc."
   ]
  },
  {
   "cell_type": "markdown",
   "metadata": {},
   "source": [
    "### Financial Services Accessed vs Type of Income"
   ]
  },
  {
   "cell_type": "code",
   "execution_count": null,
   "metadata": {},
   "outputs": [],
   "source": [
    "sns.countplot(y = incomes.Income_Type, hue = 'mobile_money', data = incomes)\n",
    "plt.title('Financial Services Accessed With Respect to Type of Income')\n",
    "plt.xlabel('Number of People')\n",
    "plt.ylabel('Type of Income')"
   ]
  },
  {
   "cell_type": "markdown",
   "metadata": {},
   "source": [
    "## Instruction 4\n",
    "4. Create appropriate graphs to visually represent the relationship between how often mobile services are used and age, gender, marital status, land ownership and type of income."
   ]
  },
  {
   "cell_type": "markdown",
   "metadata": {},
   "source": [
    "### How Often Financial Services Accessed vs Age"
   ]
  },
  {
   "cell_type": "code",
   "execution_count": null,
   "metadata": {},
   "outputs": [],
   "source": [
    "g = sns.catplot(x = 'Sent Money(12months)', y = 'Age', kind = \"swarm\", data = mob_money)\n",
    "plt.title('Have you sent money in past 12 Months?')\n",
    "plt.xlabel('Sent Money(12months)')\n",
    "plt.ylabel('Age')"
   ]
  },
  {
   "cell_type": "code",
   "execution_count": null,
   "metadata": {},
   "outputs": [],
   "source": [
    "g = sns.catplot(x = 'Last Sent Money', y = 'Age', kind = \"swarm\", data = mob_money)\n",
    "# plt.figure(figsize=(50,20))\n",
    "plt.title('When last did you send money?')\n",
    "plt.xlabel('Last Sent Money')\n",
    "plt.ylabel('Age')"
   ]
  },
  {
   "cell_type": "code",
   "execution_count": null,
   "metadata": {},
   "outputs": [],
   "source": [
    "g = sns.catplot(x = 'Received Money(12months)', y = 'Age', kind = \"swarm\", data = mob_money)\n",
    "plt.title('Have you received money in past 12 Months?')\n",
    "plt.xlabel('Received Money(12months)')\n",
    "plt.ylabel('Age')"
   ]
  },
  {
   "cell_type": "code",
   "execution_count": null,
   "metadata": {},
   "outputs": [],
   "source": [
    "g = sns.catplot(x = 'Last Received Money', y = 'Age', kind = \"swarm\", data = mob_money)\n",
    "# plt.figure(figsize=(50,20))\n",
    "plt.title('When last did you receive money?')\n",
    "plt.xlabel('Last Received Money')\n",
    "plt.ylabel('Age')"
   ]
  },
  {
   "cell_type": "code",
   "execution_count": null,
   "metadata": {},
   "outputs": [],
   "source": [
    "# \"Mobile Money for Bills (12months)\"\n",
    "g = sns.catplot(x = 'Mobile Money for GnS (12months)', y = 'Age', kind = \"swarm\", data = mob_money)\n",
    "# plt.figure(figsize=(50,20))\n",
    "plt.title('How Often Did You Use Mobile Money to Buy Goods and Services?')\n",
    "plt.xlabel('Mobile Money for GnS (12months)')\n",
    "plt.ylabel('Age')"
   ]
  },
  {
   "cell_type": "code",
   "execution_count": null,
   "metadata": {},
   "outputs": [],
   "source": [
    "# \"Mobile Money for Bills (12months)\"\n",
    "g = sns.catplot(x = 'Mobile Money for Bills (12months)', y = 'Age', kind = \"swarm\", data = mob_money)\n",
    "# plt.figure(figsize=(50,20))\n",
    "plt.title('How Often Did You Use Mobile Money for Paying Your Bills?')\n",
    "plt.xlabel('Mobile Money for Bills (12months)')\n",
    "plt.ylabel('Age')"
   ]
  },
  {
   "cell_type": "markdown",
   "metadata": {},
   "source": [
    "### How Often Financial Services Accessed vs Gender"
   ]
  },
  {
   "cell_type": "code",
   "execution_count": null,
   "metadata": {},
   "outputs": [],
   "source": [
    "g = sns.catplot(x = \"Gender\", kind = 'count', hue = \"Sent Money(12months)\", data = mob_money)\n",
    "plt.title('Have you sent money in past 12 Months?')\n",
    "plt.xlabel('Gender')\n",
    "plt.ylabel('Number of People')"
   ]
  },
  {
   "cell_type": "code",
   "execution_count": null,
   "metadata": {},
   "outputs": [],
   "source": [
    "g = sns.catplot(x = \"Last Sent Money\", kind = 'count', hue = \"Gender\", data = mob_money)\n",
    "plt.title('When last did you send money?')\n",
    "plt.xlabel('Last Sent Money')\n",
    "plt.ylabel('Number of People')"
   ]
  },
  {
   "cell_type": "code",
   "execution_count": null,
   "metadata": {},
   "outputs": [],
   "source": [
    "g = sns.catplot(x = \"Gender\", kind = 'count', hue = \"Received Money(12months)\", data = mob_money)\n",
    "plt.title('Have you received money in past 12 Months?')\n",
    "plt.xlabel('Gender')\n",
    "plt.ylabel('Number of People')"
   ]
  },
  {
   "cell_type": "code",
   "execution_count": null,
   "metadata": {},
   "outputs": [],
   "source": [
    "g = sns.catplot(x = \"Last Received Money\", kind = 'count', hue = \"Gender\", data = mob_money)\n",
    "plt.title('When last did you receive money?')\n",
    "plt.xlabel('Last Received Money')\n",
    "plt.ylabel('Number of People')"
   ]
  },
  {
   "cell_type": "code",
   "execution_count": null,
   "metadata": {},
   "outputs": [],
   "source": [
    "g = sns.catplot(x = \"Mobile Money for GnS (12months)\", kind = 'count', hue = \"Gender\", data = mob_money)\n",
    "plt.title('How Often Did You Use Mobile Money to Buy Goods and Services?')\n",
    "plt.xlabel('Mobile Money for GnS (12months)')\n",
    "plt.ylabel('Number of People')"
   ]
  },
  {
   "cell_type": "code",
   "execution_count": null,
   "metadata": {},
   "outputs": [],
   "source": [
    "g = sns.catplot(x = \"Mobile Money for Bills (12months)\", kind = 'count', hue = \"Gender\", data = mob_money)\n",
    "plt.title('How Often Did You Use Mobile Money for Paying Your Bills?')\n",
    "plt.xlabel('Mobile Money for Bills (12months)')\n",
    "plt.ylabel('Number of People')"
   ]
  },
  {
   "cell_type": "markdown",
   "metadata": {},
   "source": [
    "### How Often Financial Services Accessed vs Marital Status"
   ]
  },
  {
   "cell_type": "code",
   "execution_count": null,
   "metadata": {},
   "outputs": [],
   "source": [
    "g = sns.catplot(x = \"Marital Status\", kind = 'count', hue = \"Sent Money(12months)\", data = mob_money)\n",
    "plt.title('Have you sent money in past 12 Months?')\n",
    "plt.xlabel('Marital Status')\n",
    "plt.ylabel('Number of People')"
   ]
  },
  {
   "cell_type": "code",
   "execution_count": null,
   "metadata": {},
   "outputs": [],
   "source": [
    "g = sns.catplot(x = \"Last Sent Money\", kind = 'count', hue = \"Marital Status\", data = mob_money)\n",
    "plt.title('When last did you send money?')\n",
    "plt.xlabel('Last Sent Money')\n",
    "plt.ylabel('Number of People')"
   ]
  },
  {
   "cell_type": "code",
   "execution_count": null,
   "metadata": {},
   "outputs": [],
   "source": [
    "g = sns.catplot(x = \"Marital Status\", kind = 'count', hue = \"Received Money(12months)\", data = mob_money)\n",
    "plt.title('Have you received money in past 12 Months?')\n",
    "plt.xlabel('Marital Status')\n",
    "plt.ylabel('Number of People')"
   ]
  },
  {
   "cell_type": "code",
   "execution_count": null,
   "metadata": {},
   "outputs": [],
   "source": [
    "g = sns.catplot(x = \"Last Received Money\", kind = 'count', hue = \"Marital Status\", data = mob_money)\n",
    "plt.title('When last did you receive money?')\n",
    "plt.xlabel('Last Received Money')\n",
    "plt.ylabel('Number of People')"
   ]
  },
  {
   "cell_type": "code",
   "execution_count": null,
   "metadata": {},
   "outputs": [],
   "source": [
    "g = sns.catplot(x = \"Mobile Money for GnS (12months)\", kind = 'count', hue = \"Marital Status\", data = mob_money)\n",
    "plt.title('How Often Did You Use Mobile Money to Buy Goods and Services?')\n",
    "plt.xlabel('Mobile Money for GnS (12months)')\n",
    "plt.ylabel('Number of People')"
   ]
  },
  {
   "cell_type": "code",
   "execution_count": null,
   "metadata": {},
   "outputs": [],
   "source": [
    "g = sns.catplot(x = \"Mobile Money for Bills (12months)\", kind = 'count', hue = \"Marital Status\", data = mob_money)\n",
    "plt.title('How Often Did You Use Mobile Money for Paying Your Bills?')\n",
    "plt.xlabel('Mobile Money for Bills (12months)')\n",
    "plt.ylabel('Number of People')"
   ]
  },
  {
   "cell_type": "markdown",
   "metadata": {},
   "source": [
    "### How Often Financial Services Accessed vs Land Ownership"
   ]
  },
  {
   "cell_type": "code",
   "execution_count": null,
   "metadata": {},
   "outputs": [],
   "source": [
    "g = sns.catplot(x = \"Land Ownership\", kind = 'count', hue = \"Sent Money(12months)\", data = mob_money)\n",
    "plt.title('Have you sent money in past 12 Months?')\n",
    "plt.xlabel('Land Ownership')\n",
    "plt.ylabel('Number of People')"
   ]
  },
  {
   "cell_type": "code",
   "execution_count": null,
   "metadata": {},
   "outputs": [],
   "source": [
    "g = sns.catplot(x = \"Last Sent Money\", kind = 'count', hue = \"Land Ownership\", data = mob_money)\n",
    "plt.title('When last did you send money?')\n",
    "plt.xlabel('Last Sent Money')\n",
    "plt.ylabel('Number of People')"
   ]
  },
  {
   "cell_type": "code",
   "execution_count": null,
   "metadata": {},
   "outputs": [],
   "source": [
    "g = sns.catplot(x = \"Land Ownership\", kind = 'count', hue = \"Received Money(12months)\", data = mob_money)\n",
    "plt.title('Have you received money in past 12 Months?')\n",
    "plt.xlabel('Land Ownership')\n",
    "plt.ylabel('Number of People')"
   ]
  },
  {
   "cell_type": "code",
   "execution_count": null,
   "metadata": {},
   "outputs": [],
   "source": [
    "g = sns.catplot(x = \"Last Received Money\", kind = 'count', hue = \"Land Ownership\", data = mob_money)\n",
    "plt.title('When last did you receive money?')\n",
    "plt.xlabel('Last Received Money')\n",
    "plt.ylabel('Number of People')"
   ]
  },
  {
   "cell_type": "code",
   "execution_count": null,
   "metadata": {},
   "outputs": [],
   "source": [
    "g = sns.catplot(x = \"Mobile Money for GnS (12months)\", kind = 'count', hue = \"Land Ownership\", data = mob_money)\n",
    "plt.title('How Often Did You Use Mobile Money to Buy Goods and Services?')\n",
    "plt.xlabel('Mobile Money for GnS (12months)')\n",
    "plt.ylabel('Number of People')"
   ]
  },
  {
   "cell_type": "code",
   "execution_count": null,
   "metadata": {},
   "outputs": [],
   "source": [
    "g = sns.catplot(x = \"Mobile Money for Bills (12months)\", kind = 'count', hue = \"Land Ownership\", data = mob_money)\n",
    "plt.title('How Often Did You Use Mobile Money for Paying Your Bills?')\n",
    "plt.xlabel('Mobile Money for Bills (12months)')\n",
    "plt.ylabel('Number of People')"
   ]
  },
  {
   "cell_type": "markdown",
   "metadata": {},
   "source": [
    "### How Often Financial Services Accessed vs Type of Income"
   ]
  },
  {
   "cell_type": "code",
   "execution_count": null,
   "metadata": {},
   "outputs": [],
   "source": [
    "sns.countplot(y = incomes.Income_Type, hue = 'Sent Money(12months)', data = incomes)\n",
    "plt.title('Have You Used Mobile Money to Send Money in the Past 12months?')\n",
    "plt.xlabel('Number of People')"
   ]
  },
  {
   "cell_type": "code",
   "execution_count": null,
   "metadata": {},
   "outputs": [],
   "source": [
    "sns.countplot(y = incomes.Income_Type, hue = 'Received Money(12months)', data = incomes)\n",
    "plt.title('Have You Used Mobile Money to Receive Money in the Past 12months?')\n",
    "plt.xlabel('Number of People')"
   ]
  },
  {
   "cell_type": "markdown",
   "metadata": {},
   "source": [
    "## Instruction 5\n",
    "5. Create a map to visually explore geographic distribution of mobile services coverage with respect to type of income."
   ]
  },
  {
   "cell_type": "code",
   "execution_count": null,
   "metadata": {},
   "outputs": [],
   "source": [
    "income = mob_money[(mob_money[\"Salaries/Wages\"] == 1) | (mob_money[\"Trading\"] == 1) | (mob_money[\"Service Provider\"] == 1) | (mob_money[\"Piece Jobs\"] == 1) | (mob_money[\"Rental Income\"] == 1) | (mob_money[\"Investments\"] == 1) | (mob_money[\"Pension\"] == 1) | (mob_money[\"Social Welfare\"] == 1) | (mob_money[\"Rely on Someone Else\"] == 1) | (mob_money[\"No Money\"] == 1) | (mob_money[\"Other\"] == 1)]\n",
    "len(income)"
   ]
  },
  {
   "cell_type": "code",
   "execution_count": null,
   "metadata": {},
   "outputs": [],
   "source": [
    "maps = folium.Map(location=[-6.161184, 35.745426], tiles='OpenStreetMap', zoom_start=6)\n",
    "marker_cluster = MarkerCluster().add_to(maps)\n",
    "for lat, long in zip(income.Latitude, income.Longitude):\n",
    "    folium.Marker(location = [lat, long]\n",
    "    ).add_to(marker_cluster)\n",
    "maps"
   ]
  },
  {
   "cell_type": "code",
   "execution_count": null,
   "metadata": {},
   "outputs": [],
   "source": []
  }
 ],
 "metadata": {
  "kernelspec": {
   "display_name": "Python 3",
   "language": "python",
   "name": "python3"
  },
  "language_info": {
   "codemirror_mode": {
    "name": "ipython",
    "version": 3
   },
   "file_extension": ".py",
   "mimetype": "text/x-python",
   "name": "python",
   "nbconvert_exporter": "python",
   "pygments_lexer": "ipython3",
   "version": "3.7.4"
  }
 },
 "nbformat": 4,
 "nbformat_minor": 2
}
